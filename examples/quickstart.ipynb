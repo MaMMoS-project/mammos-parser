{
 "cells": [
  {
   "cell_type": "markdown",
   "id": "0f7f1443-9ed0-413d-a747-c3023a3ce7e4",
   "metadata": {},
   "source": [
    "`mammos-parser` quickstart\n",
    "\n",
    "`mammos-parser` provides tools to read datasets created by MaMMoS project partners."
   ]
  },
  {
   "cell_type": "code",
   "execution_count": null,
   "id": "7f50c224-9f48-4623-ae96-fbdc97683faf",
   "metadata": {},
   "outputs": [],
   "source": [
    "import mammos_parser"
   ]
  },
  {
   "cell_type": "code",
   "execution_count": null,
   "id": "0a4231b2-be40-4864-be96-e28715c2e798",
   "metadata": {},
   "outputs": [],
   "source": [
    "mammos_parser.__version__"
   ]
  }
 ],
 "metadata": {
  "kernelspec": {
   "display_name": "Python 3 (ipykernel)",
   "language": "python",
   "name": "python3"
  },
  "language_info": {
   "codemirror_mode": {
    "name": "ipython",
    "version": 3
   },
   "file_extension": ".py",
   "mimetype": "text/x-python",
   "name": "python",
   "nbconvert_exporter": "python",
   "pygments_lexer": "ipython3",
   "version": "3.11.0"
  }
 },
 "nbformat": 4,
 "nbformat_minor": 5
}
