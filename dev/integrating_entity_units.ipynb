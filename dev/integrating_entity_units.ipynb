{
 "cells": [
  {
   "cell_type": "code",
   "execution_count": 1,
   "id": "2f6398b9-7fb9-43e0-b587-3b3e7e681ab3",
   "metadata": {},
   "outputs": [],
   "source": [
    "import mammos_units as u\n",
    "import mammos_entity as me"
   ]
  },
  {
   "cell_type": "code",
   "execution_count": 2,
   "id": "c48c313c-9d33-4c5a-9fc7-e53b0edb7e74",
   "metadata": {},
   "outputs": [],
   "source": [
    "readme_str = \"\"\"\n",
    "Ms = 0.70 T\n",
    "MAE = 0.70 MJ/m3\n",
    "\"\"\""
   ]
  },
  {
   "cell_type": "code",
   "execution_count": 3,
   "id": "25a9b3ad-16f4-461d-9461-6e25755fecd8",
   "metadata": {},
   "outputs": [],
   "source": [
    "readme_str = \"\"\"\n",
    "Ms = 0.70 T\n",
    "MAE = 0.70 MJ/m³\n",
    "\"\"\""
   ]
  },
  {
   "cell_type": "code",
   "execution_count": 4,
   "id": "70dd17e2-4ab7-4186-9064-b5827a13ad4b",
   "metadata": {},
   "outputs": [
    {
     "data": {
      "text/latex": [
       "$0.7 \\; \\mathrm{T}$"
      ],
      "text/plain": [
       "<Quantity 0.7 T>"
      ]
     },
     "execution_count": 4,
     "metadata": {},
     "output_type": "execute_result"
    }
   ],
   "source": [
    "u.Quantity(\"0.70 T\")"
   ]
  },
  {
   "cell_type": "code",
   "execution_count": 5,
   "id": "39534ee0-f1f0-4a0a-a9db-d802e1a817d7",
   "metadata": {},
   "outputs": [
    {
     "data": {
      "text/latex": [
       "$0.7 \\; \\mathrm{T}$"
      ],
      "text/plain": [
       "<Quantity 0.7 T>"
      ]
     },
     "execution_count": 5,
     "metadata": {},
     "output_type": "execute_result"
    }
   ],
   "source": [
    "u.Quantity(\"0.70T\")"
   ]
  },
  {
   "cell_type": "code",
   "execution_count": 6,
   "id": "eb1844ea-2625-42b9-aed1-4308dc0b0c0d",
   "metadata": {},
   "outputs": [
    {
     "data": {
      "text/latex": [
       "$0.7 \\; \\mathrm{\\frac{MJ}{m^{3}}}$"
      ],
      "text/plain": [
       "<Quantity 0.7 MJ / m3>"
      ]
     },
     "execution_count": 6,
     "metadata": {},
     "output_type": "execute_result"
    }
   ],
   "source": [
    "u.Quantity(\"0.70 MJ/m3\")"
   ]
  },
  {
   "cell_type": "code",
   "execution_count": 7,
   "id": "6f2f01ed-be00-4539-9dce-a1b1852c8834",
   "metadata": {},
   "outputs": [
    {
     "data": {
      "text/latex": [
       "$0.7 \\; \\mathrm{\\frac{MJ}{m^{3}}}$"
      ],
      "text/plain": [
       "<Quantity 0.7 MJ / m3>"
      ]
     },
     "execution_count": 7,
     "metadata": {},
     "output_type": "execute_result"
    }
   ],
   "source": [
    "u.Quantity(\"0.70MJ/m³\")"
   ]
  },
  {
   "cell_type": "code",
   "execution_count": 8,
   "id": "d96503a5-61d1-4593-b3e7-93f0be20abaf",
   "metadata": {},
   "outputs": [],
   "source": [
    "import re"
   ]
  },
  {
   "cell_type": "code",
   "execution_count": 9,
   "id": "14a50ef3-7eff-4539-803e-8a1c801aa08c",
   "metadata": {},
   "outputs": [
    {
     "data": {
      "text/plain": [
       "(' 0.70 T',)"
      ]
     },
     "execution_count": 9,
     "metadata": {},
     "output_type": "execute_result"
    }
   ],
   "source": [
    "Ms_val = re.search(r\"Ms\\s*=(.*)\", readme_str)\n",
    "Ms_val.groups(1)"
   ]
  },
  {
   "cell_type": "code",
   "execution_count": 10,
   "id": "038dc489-bb7a-492d-b70a-99dfce4727ca",
   "metadata": {},
   "outputs": [
    {
     "data": {
      "text/plain": [
       "' 0.70 T'"
      ]
     },
     "execution_count": 10,
     "metadata": {},
     "output_type": "execute_result"
    }
   ],
   "source": [
    "Ms_val = re.findall(r\"Ms\\s*=(.*)\", readme_str)\n",
    "Ms_val[0]"
   ]
  },
  {
   "cell_type": "code",
   "execution_count": 11,
   "id": "e84905de-2f76-4669-a8fc-b7e87e35b202",
   "metadata": {},
   "outputs": [],
   "source": [
    "def Ms_from_readme(readme_str: str) -> me.Entity:\n",
    "    Js_candidates = re.findall(r\"Ms\\s=(.*)\", readme_str)\n",
    "    assert len(Js_candidates) == 1  # TODO replace with proper error handling\n",
    "    Js = u.Quantity(Js_candidates[0])\n",
    "    with u.set_enabled_equivalencies(u.magnetic_flux_field()):\n",
    "        Ms = Js.to(\"A/m\")\n",
    "    return me.Ms(Ms)"
   ]
  },
  {
   "cell_type": "code",
   "execution_count": 22,
   "id": "03717ab1-1e40-4665-8fae-a6d28123c588",
   "metadata": {},
   "outputs": [],
   "source": [
    "readme_str = \"\"\"\n",
    "Ms = 0.70 T\n",
    "MAE = 0.70 MJ/m3\n",
    "\"\"\""
   ]
  },
  {
   "cell_type": "code",
   "execution_count": 23,
   "id": "7d642c6f-de31-4690-a9b9-ab141b64d72f",
   "metadata": {},
   "outputs": [
    {
     "data": {
      "text/plain": [
       "SpontaneousMagnetization(value=557042.3005183934, unit=A / m)"
      ]
     },
     "execution_count": 23,
     "metadata": {},
     "output_type": "execute_result"
    }
   ],
   "source": [
    "Ms_from_readme(readme_str)"
   ]
  },
  {
   "cell_type": "code",
   "execution_count": 14,
   "id": "b24c9dd8-99c1-4669-8ffb-c3979dcde134",
   "metadata": {},
   "outputs": [],
   "source": [
    "readme_str = \"\"\"\n",
    "Ms = 0.70 T\n",
    "MAE = 0.70 MJ/m³\n",
    "\"\"\""
   ]
  },
  {
   "cell_type": "code",
   "execution_count": 15,
   "id": "1d57ea0b-ebfc-4205-9d2c-1404ce6fd35f",
   "metadata": {},
   "outputs": [
    {
     "data": {
      "text/plain": [
       "SpontaneousMagnetization(value=557042.3005183934, unit=A / m)"
      ]
     },
     "execution_count": 15,
     "metadata": {},
     "output_type": "execute_result"
    }
   ],
   "source": [
    "Ms_from_readme(readme_str)"
   ]
  },
  {
   "cell_type": "code",
   "execution_count": null,
   "id": "0d7e4644-3ab5-424c-8285-4b26fd9a44a0",
   "metadata": {},
   "outputs": [],
   "source": []
  }
 ],
 "metadata": {
  "kernelspec": {
   "display_name": "Python 3 (ipykernel)",
   "language": "python",
   "name": "python3"
  },
  "language_info": {
   "codemirror_mode": {
    "name": "ipython",
    "version": 3
   },
   "file_extension": ".py",
   "mimetype": "text/x-python",
   "name": "python",
   "nbconvert_exporter": "python",
   "pygments_lexer": "ipython3",
   "version": "3.11.0"
  }
 },
 "nbformat": 4,
 "nbformat_minor": 5
}
